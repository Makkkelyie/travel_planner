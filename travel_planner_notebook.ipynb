{
 "cells": [
  {
   "cell_type": "markdown",
   "id": "7d712b71",
   "metadata": {},
   "source": [
    "# ✈️ Travel Planner with APIs\n",
    "This notebook allows you to:\n",
    "- Get current weather of a city\n",
    "- See 5 top attractions with clickable links\n",
    "- Check the current exchange rate between CAD and local currency"
   ]
  },
  {
   "cell_type": "code",
   "execution_count": 1,
   "id": "3b1c1243",
   "metadata": {},
   "outputs": [
    {
     "name": "stderr",
     "output_type": "stream",
     "text": [
      "/Users/kellymao93/Library/Python/3.9/lib/python/site-packages/urllib3/__init__.py:35: NotOpenSSLWarning: urllib3 v2 only supports OpenSSL 1.1.1+, currently the 'ssl' module is compiled with 'LibreSSL 2.8.3'. See: https://github.com/urllib3/urllib3/issues/3020\n",
      "  warnings.warn(\n"
     ]
    }
   ],
   "source": [
    "from IPython.display import Image, display, Markdown\n",
    "import requests\n",
    "from datetime import datetime, timedelta\n",
    "import sqlite3\n",
    "from dotenv import load_dotenv\n",
    "import os\n",
    "load_dotenv()\n",
    "\n",
    "weather_key = os.getenv(\"OPENWEATHER_API_KEY\")\n",
    "unsplash_key =  os.getenv(\"UNSPLASH_ACCESS_KEY\")\n",
    "google_key = os.getenv(\"GOOGLE_API_KEY\")\n",
    "exchange_key = os.getenv(\"EXCHANGE_API_KEY\")\n",
    "\n",
    "# === Function: Get Weather ===\n",
    "def get_weather(city):\n",
    "    url = f\"https://api.openweathermap.org/data/2.5/weather?q={city}&appid={weather_key}&units=metric\"\n",
    "    response = requests.get(url)\n",
    "    data = response.json()\n",
    "\n",
    "    if response.status_code == 200:\n",
    "        offset = data[\"timezone\"]\n",
    "        local_time = (datetime.utcnow() + timedelta(seconds=offset)).strftime('%Y-%m-%d %H:%M:%S')\n",
    "        return {\n",
    "            \"description\": data[\"weather\"][0][\"description\"],\n",
    "            \"temperature\": data[\"main\"][\"temp\"],\n",
    "            \"feels_like\": data[\"main\"][\"feels_like\"],\n",
    "            \"local_time\": local_time,\n",
    "            \"country\": data[\"sys\"][\"country\"],\n",
    "            \"lat\": data[\"coord\"][\"lat\"],\n",
    "            \"lon\": data[\"coord\"][\"lon\"]\n",
    "        }\n",
    "    else:\n",
    "        return {\"error\": data.get(\"message\", \"Something went wrong.\")}\n",
    "\n",
    "# === Function: Get Currency Code ===\n",
    "def get_currency_code(country_code):\n",
    "    currency_map = {\n",
    "        \"US\": \"USD\", \"JP\": \"JPY\", \"FR\": \"EUR\", \"GB\": \"GBP\",\n",
    "        \"CN\": \"CNY\", \"CA\": \"CAD\", \"AU\": \"AUD\"\n",
    "    }\n",
    "    return currency_map.get(country_code.upper(), None)\n",
    "\n",
    "# === Function: Get Exchange Rate ===\n",
    "def get_exchange_rate(from_currency=\"CAD\", to_currency=\"USD\"):\n",
    "    url = f\"https://v6.exchangerate-api.com/v6/{exchange_key}/pair/{from_currency}/{to_currency}\"\n",
    "    res = requests.get(url).json()\n",
    "    return res[\"conversion_rate\"] if res[\"result\"] == \"success\" else \"Rate unavailable\"\n",
    "\n",
    "# === Function: Get Top Places (Hotels, Restaurants, Attractions) ===\n",
    "def get_top_places(lat, lon, place_type):\n",
    "    url = (\n",
    "        f\"https://maps.googleapis.com/maps/api/place/nearbysearch/json\"\n",
    "        f\"?location={lat},{lon}&radius=5000&type={place_type}&opennow=true&key={google_key}\"\n",
    "    )\n",
    "    response = requests.get(url)\n",
    "    data = response.json()\n",
    "    results = []\n",
    "    if data.get(\"status\") == \"OK\":\n",
    "        for place in data.get(\"results\", [])[:5]:\n",
    "            name = place.get(\"name\", \"Unknown\")\n",
    "            address = place.get(\"vicinity\", \"No address\")\n",
    "            place_id = place.get(\"place_id\", \"\")\n",
    "            maps_url = f\"https://www.google.com/maps/place/?q=place_id:{place_id}\"\n",
    "            results.append(f\"[{name}]({maps_url}) - {address}\")\n",
    "    return results\n",
    "\n",
    "# === Function: Get City Image from Unsplash ===\n",
    "def get_city_image(city_name, access_key):\n",
    "    url = f\"https://api.unsplash.com/search/photos?query={city_name}&client_id={access_key}&per_page=1\"\n",
    "    response = requests.get(url)\n",
    "    data = response.json()\n",
    "    return data['results'][0]['urls']['regular'] if response.status_code == 200 and data['results'] else None\n",
    "\n",
    "# === Function: Save Search to SQLite ===\n",
    "def save_to_db(city, local_time, description, temp, feels_like):\n",
    "    conn = sqlite3.connect(\"travel.db\")\n",
    "    c = conn.cursor()\n",
    "    c.execute(\"\"\"\n",
    "        CREATE TABLE IF NOT EXISTS travel_history (\n",
    "            id INTEGER PRIMARY KEY AUTOINCREMENT,\n",
    "            city TEXT, local_time TEXT, description TEXT, temp REAL, feels_like REAL\n",
    "        )\n",
    "    \"\"\")\n",
    "    c.execute(\"INSERT INTO travel_history (city, local_time, description, temp, feels_like) VALUES (?, ?, ?, ?, ?)\",\n",
    "              (city, local_time, description, temp, feels_like))\n",
    "    conn.commit()\n",
    "    conn.close()\n",
    "\n",
    "# === Function: Show History ===\n",
    "def show_history():\n",
    "    conn = sqlite3.connect(\"travel.db\")\n",
    "    c = conn.cursor()\n",
    "    c.execute(\"SELECT city, local_time, description, temp, feels_like FROM travel_history\")\n",
    "    rows = c.fetchall()\n",
    "    conn.close()\n",
    "    if rows:\n",
    "        display(Markdown(\"## 📜 Past Travel Searches\"))\n",
    "        for row in rows:\n",
    "            display(Markdown(f\"**{row[0]}** at {row[1]} — {row[2]}, {row[3]}°C (Feels like {row[4]}°C)\"))\n",
    "    else:\n",
    "        print(\"No history available.\")\n"
   ]
  },
  {
   "cell_type": "code",
   "execution_count": 2,
   "id": "f09b9032",
   "metadata": {},
   "outputs": [
    {
     "data": {
      "text/markdown": [
       "# 🌆 Travel Information for **Paris**"
      ],
      "text/plain": [
       "<IPython.core.display.Markdown object>"
      ]
     },
     "metadata": {},
     "output_type": "display_data"
    },
    {
     "data": {
      "text/html": [
       "<img src=\"https://images.unsplash.com/photo-1511739001486-6bfe10ce785f?crop=entropy&cs=tinysrgb&fit=max&fm=jpg&ixid=M3w3NjcyMDd8MHwxfHNlYXJjaHwxfHxQYXJpc3xlbnwwfHx8fDE3NTA1NzU5MzF8MA&ixlib=rb-4.1.0&q=80&w=1080\"/>"
      ],
      "text/plain": [
       "<IPython.core.display.Image object>"
      ]
     },
     "metadata": {},
     "output_type": "display_data"
    },
    {
     "name": "stdout",
     "output_type": "stream",
     "text": [
      "Local Time: 2025-06-22 09:05:31\n",
      "Weather: clear sky\n",
      "Temperature: 22.95°C (Feels like 22.84°C)\n",
      "Currency Exchange: 1 CAD = 0.6327 EUR\n"
     ]
    },
    {
     "data": {
      "text/markdown": [
       "## 🏨 Top 5 Hotels"
      ],
      "text/plain": [
       "<IPython.core.display.Markdown object>"
      ]
     },
     "metadata": {},
     "output_type": "display_data"
    },
    {
     "data": {
      "text/markdown": [
       "1. [Britannique Hotel - Paris Centre](https://www.google.com/maps/place/?q=place_id:ChIJ-4Siox9u5kcRm9vM6DcMXyU) - 20 Avenue Victoria, Paris"
      ],
      "text/plain": [
       "<IPython.core.display.Markdown object>"
      ]
     },
     "metadata": {},
     "output_type": "display_data"
    },
    {
     "data": {
      "text/markdown": [
       "2. [Hôtel Duo](https://www.google.com/maps/place/?q=place_id:ChIJWU9CqB1u5kcR5P1F2SMoJmc) - 11 Rue du Temple, Paris"
      ],
      "text/plain": [
       "<IPython.core.display.Markdown object>"
      ]
     },
     "metadata": {},
     "output_type": "display_data"
    },
    {
     "data": {
      "text/markdown": [
       "3. [Hôtel Libertel Austerlitz Jardin des Plantes](https://www.google.com/maps/place/?q=place_id:ChIJe-udXPZx5kcRKURHNFv5BSw) - 12 Boulevard de l'Hôpital, Paris"
      ],
      "text/plain": [
       "<IPython.core.display.Markdown object>"
      ]
     },
     "metadata": {},
     "output_type": "display_data"
    },
    {
     "data": {
      "text/markdown": [
       "4. [Hotel Regina Louvre](https://www.google.com/maps/place/?q=place_id:ChIJP_-HCS9u5kcRsj9b1x7Pl8w) - 2 Place des Pyramides, Paris"
      ],
      "text/plain": [
       "<IPython.core.display.Markdown object>"
      ]
     },
     "metadata": {},
     "output_type": "display_data"
    },
    {
     "data": {
      "text/markdown": [
       "5. [Paris France Hotel](https://www.google.com/maps/place/?q=place_id:ChIJhXWLZg9u5kcRDVyqoZYgcmg) - 72 Rue de Turbigo, Paris"
      ],
      "text/plain": [
       "<IPython.core.display.Markdown object>"
      ]
     },
     "metadata": {},
     "output_type": "display_data"
    },
    {
     "data": {
      "text/markdown": [
       "## 🍽️ Top 5 Restaurants"
      ],
      "text/plain": [
       "<IPython.core.display.Markdown object>"
      ]
     },
     "metadata": {},
     "output_type": "display_data"
    },
    {
     "data": {
      "text/markdown": [
       "1. [Hotel Regina Louvre](https://www.google.com/maps/place/?q=place_id:ChIJP_-HCS9u5kcRsj9b1x7Pl8w) - 2 Place des Pyramides, Paris"
      ],
      "text/plain": [
       "<IPython.core.display.Markdown object>"
      ]
     },
     "metadata": {},
     "output_type": "display_data"
    },
    {
     "data": {
      "text/markdown": [
       "2. [Hotel Montalembert](https://www.google.com/maps/place/?q=place_id:ChIJ_RAH_ylu5kcRuLruDyjwFao) - 3 Rue de Montalembert, Paris"
      ],
      "text/plain": [
       "<IPython.core.display.Markdown object>"
      ]
     },
     "metadata": {},
     "output_type": "display_data"
    },
    {
     "data": {
      "text/markdown": [
       "3. [Hôtel Georgette](https://www.google.com/maps/place/?q=place_id:ChIJZ6OWsRtu5kcRuyOkJ6_e06E) - 36 Rue du Grenier-Saint-Lazare, Paris"
      ],
      "text/plain": [
       "<IPython.core.display.Markdown object>"
      ]
     },
     "metadata": {},
     "output_type": "display_data"
    },
    {
     "data": {
      "text/markdown": [
       "4. [Le Pavillon de la Reine](https://www.google.com/maps/place/?q=place_id:ChIJowDQ3_9x5kcRTtwZxXwH_kQ) - 28 Place des Vosges, Paris"
      ],
      "text/plain": [
       "<IPython.core.display.Markdown object>"
      ]
     },
     "metadata": {},
     "output_type": "display_data"
    },
    {
     "data": {
      "text/markdown": [
       "5. [Grand Hôtel du Palais Royal](https://www.google.com/maps/place/?q=place_id:ChIJpT58XyRu5kcRebe-VXwklTo) - 4 Rue de Valois, Paris"
      ],
      "text/plain": [
       "<IPython.core.display.Markdown object>"
      ]
     },
     "metadata": {},
     "output_type": "display_data"
    },
    {
     "data": {
      "text/markdown": [
       "## 📍 Top 5 Attractions"
      ],
      "text/plain": [
       "<IPython.core.display.Markdown object>"
      ]
     },
     "metadata": {},
     "output_type": "display_data"
    },
    {
     "data": {
      "text/markdown": [
       "1. [Hôtel de Sens](https://www.google.com/maps/place/?q=place_id:ChIJvzDrq_1x5kcRFc9gDmQac24) - 7 Rue des Nonnains d'Hyères, Paris"
      ],
      "text/plain": [
       "<IPython.core.display.Markdown object>"
      ]
     },
     "metadata": {},
     "output_type": "display_data"
    },
    {
     "data": {
      "text/markdown": [
       "2. [Passerelle Debilly](https://www.google.com/maps/place/?q=place_id:ChIJbWdK0eZv5kcROmLZY2qD4gk) - Passerelle Debilly, Paris"
      ],
      "text/plain": [
       "<IPython.core.display.Markdown object>"
      ]
     },
     "metadata": {},
     "output_type": "display_data"
    },
    {
     "data": {
      "text/markdown": [
       "3. [Notre-Dame Cathedral of Paris](https://www.google.com/maps/place/?q=place_id:ChIJATr1n-Fx5kcRjQb6q6cdQDY) - 6 Parvis Notre Dame - Place Jean-Paul II, Paris"
      ],
      "text/plain": [
       "<IPython.core.display.Markdown object>"
      ]
     },
     "metadata": {},
     "output_type": "display_data"
    },
    {
     "data": {
      "text/markdown": [
       "4. [Eiffel Tower](https://www.google.com/maps/place/?q=place_id:ChIJLU7jZClu5kcR4PcOOO6p3I0) - Avenue Gustave Eiffel, Paris"
      ],
      "text/plain": [
       "<IPython.core.display.Markdown object>"
      ]
     },
     "metadata": {},
     "output_type": "display_data"
    },
    {
     "data": {
      "text/markdown": [
       "5. [Moulin Rouge](https://www.google.com/maps/place/?q=place_id:ChIJiQxv_05u5kcRESFIh6-QTvQ) - 82 Boulevard de Clichy, Paris"
      ],
      "text/plain": [
       "<IPython.core.display.Markdown object>"
      ]
     },
     "metadata": {},
     "output_type": "display_data"
    },
    {
     "data": {
      "text/markdown": [
       "## 📜 Past Travel Searches"
      ],
      "text/plain": [
       "<IPython.core.display.Markdown object>"
      ]
     },
     "metadata": {},
     "output_type": "display_data"
    },
    {
     "data": {
      "text/markdown": [
       "**Tokyo** at 2025-06-22 12:17:40 — few clouds, 32.2°C (Feels like 34.73°C)"
      ],
      "text/plain": [
       "<IPython.core.display.Markdown object>"
      ]
     },
     "metadata": {},
     "output_type": "display_data"
    },
    {
     "data": {
      "text/markdown": [
       "**Toronto** at 2025-06-21 23:26:24 — few clouds, 24.62°C (Feels like 24.94°C)"
      ],
      "text/plain": [
       "<IPython.core.display.Markdown object>"
      ]
     },
     "metadata": {},
     "output_type": "display_data"
    },
    {
     "data": {
      "text/markdown": [
       "**Shanghai** at 2025-06-22 11:27:18 — broken clouds, 22.92°C (Feels like 23.57°C)"
      ],
      "text/plain": [
       "<IPython.core.display.Markdown object>"
      ]
     },
     "metadata": {},
     "output_type": "display_data"
    },
    {
     "data": {
      "text/markdown": [
       "**Paris** at 2025-06-22 09:05:31 — clear sky, 22.95°C (Feels like 22.84°C)"
      ],
      "text/plain": [
       "<IPython.core.display.Markdown object>"
      ]
     },
     "metadata": {},
     "output_type": "display_data"
    }
   ],
   "source": [
    "# ✅ 1. input city\n",
    "city = input(\"Enter a city name: \")  \n",
    "\n",
    "# ✅ 2. weather information\n",
    "weather_info = get_weather(city)\n",
    "\n",
    "# ✅ 3. show information\n",
    "if \"error\" in weather_info:\n",
    "    print(\"Error:\", weather_info[\"error\"])\n",
    "else:\n",
    "    display(Markdown(f\"# 🌆 Travel Information for **{city}**\"))\n",
    "\n",
    "    # ✅ city image\n",
    "    image_url = get_city_image(city, unsplash_key)\n",
    "    if image_url:\n",
    "        display(Image(url=image_url))\n",
    "\n",
    "    # ✅ show weather information\n",
    "    print(f\"Local Time: {weather_info['local_time']}\")\n",
    "    print(f\"Weather: {weather_info['description']}\")\n",
    "    print(f\"Temperature: {weather_info['temperature']}°C (Feels like {weather_info['feels_like']}°C)\")\n",
    "    \n",
    "\n",
    "    # ✅ store to database\n",
    "    save_to_db(city, weather_info['local_time'], weather_info['description'],\n",
    "               weather_info['temperature'], weather_info['feels_like'])\n",
    "\n",
    "    # ✅ show exchange rate\n",
    "    code = get_currency_code(weather_info[\"country\"])\n",
    "    if code:\n",
    "        rate = get_exchange_rate(\"CAD\", code)\n",
    "        print(f\"Currency Exchange: 1 CAD = {rate} {code}\")\n",
    "\n",
    "    # ✅ top 5 hotels, restaurants, attractions\n",
    "    display(Markdown(\"## 🏨 Top 5 Hotels\"))\n",
    "    for i, hotel in enumerate(get_top_places(weather_info[\"lat\"], weather_info[\"lon\"], \"lodging\"), 1):\n",
    "        display(Markdown(f\"{i}. {hotel}\"))\n",
    "\n",
    "    display(Markdown(\"## 🍽️ Top 5 Restaurants\"))\n",
    "    for i, rest in enumerate(get_top_places(weather_info[\"lat\"], weather_info[\"lon\"], \"restaurant\"), 1):\n",
    "        display(Markdown(f\"{i}. {rest}\"))\n",
    "\n",
    "    display(Markdown(\"## 📍 Top 5 Attractions\"))\n",
    "    for i, att in enumerate(get_top_places(weather_info[\"lat\"], weather_info[\"lon\"], \"tourist_attraction\"), 1):\n",
    "        display(Markdown(f\"{i}. {att}\"))\n",
    "    view = input(\"Do you want to view your past travel queries? (yes/no): \")\n",
    "    if view.lower() == \"yes\":\n",
    "        show_history()\n",
    "\n"
   ]
  }
 ],
 "metadata": {
  "kernelspec": {
   "display_name": "Python 3",
   "language": "python",
   "name": "python3"
  },
  "language_info": {
   "codemirror_mode": {
    "name": "ipython",
    "version": 3
   },
   "file_extension": ".py",
   "mimetype": "text/x-python",
   "name": "python",
   "nbconvert_exporter": "python",
   "pygments_lexer": "ipython3",
   "version": "3.9.6"
  }
 },
 "nbformat": 4,
 "nbformat_minor": 5
}
